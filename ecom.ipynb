{
 "cells": [
  {
   "cell_type": "code",
   "execution_count": 204,
   "metadata": {},
   "outputs": [],
   "source": [
    "import pandas as pd\n",
    "import numpy as np\n",
    "import altair as alt\n",
    "import datetime as dt \n",
    "import matplotlib.pyplot as plt"
   ]
  },
  {
   "cell_type": "code",
   "execution_count": 205,
   "metadata": {},
   "outputs": [
    {
     "output_type": "execute_result",
     "data": {
      "text/plain": [
       "  invoiceno stockcode                          description  quantity  \\\n",
       "0    536365    85123A   WHITE HANGING HEART T-LIGHT HOLDER         6   \n",
       "1    536365     71053                  WHITE METAL LANTERN         6   \n",
       "2    536365    84406B       CREAM CUPID HEARTS COAT HANGER         8   \n",
       "3    536365    84029G  KNITTED UNION FLAG HOT WATER BOTTLE         6   \n",
       "4    536365    84029E       RED WOOLLY HOTTIE WHITE HEART.         6   \n",
       "5    536365     22752         SET 7 BABUSHKA NESTING BOXES         2   \n",
       "6    536365     21730    GLASS STAR FROSTED T-LIGHT HOLDER         6   \n",
       "7    536366     22633               HAND WARMER UNION JACK         6   \n",
       "8    536366     22632            HAND WARMER RED POLKA DOT         6   \n",
       "9    536367     84879        ASSORTED COLOUR BIRD ORNAMENT        32   \n",
       "\n",
       "      invoicedate  unitprice  customerid         country  \n",
       "0  12/1/2010 8:26       2.55     17850.0  United Kingdom  \n",
       "1  12/1/2010 8:26       3.39     17850.0  United Kingdom  \n",
       "2  12/1/2010 8:26       2.75     17850.0  United Kingdom  \n",
       "3  12/1/2010 8:26       3.39     17850.0  United Kingdom  \n",
       "4  12/1/2010 8:26       3.39     17850.0  United Kingdom  \n",
       "5  12/1/2010 8:26       7.65     17850.0  United Kingdom  \n",
       "6  12/1/2010 8:26       4.25     17850.0  United Kingdom  \n",
       "7  12/1/2010 8:28       1.85     17850.0  United Kingdom  \n",
       "8  12/1/2010 8:28       1.85     17850.0  United Kingdom  \n",
       "9  12/1/2010 8:34       1.69     13047.0  United Kingdom  "
      ],
      "text/html": "<div>\n<style scoped>\n    .dataframe tbody tr th:only-of-type {\n        vertical-align: middle;\n    }\n\n    .dataframe tbody tr th {\n        vertical-align: top;\n    }\n\n    .dataframe thead th {\n        text-align: right;\n    }\n</style>\n<table border=\"1\" class=\"dataframe\">\n  <thead>\n    <tr style=\"text-align: right;\">\n      <th></th>\n      <th>invoiceno</th>\n      <th>stockcode</th>\n      <th>description</th>\n      <th>quantity</th>\n      <th>invoicedate</th>\n      <th>unitprice</th>\n      <th>customerid</th>\n      <th>country</th>\n    </tr>\n  </thead>\n  <tbody>\n    <tr>\n      <th>0</th>\n      <td>536365</td>\n      <td>85123A</td>\n      <td>WHITE HANGING HEART T-LIGHT HOLDER</td>\n      <td>6</td>\n      <td>12/1/2010 8:26</td>\n      <td>2.55</td>\n      <td>17850.0</td>\n      <td>United Kingdom</td>\n    </tr>\n    <tr>\n      <th>1</th>\n      <td>536365</td>\n      <td>71053</td>\n      <td>WHITE METAL LANTERN</td>\n      <td>6</td>\n      <td>12/1/2010 8:26</td>\n      <td>3.39</td>\n      <td>17850.0</td>\n      <td>United Kingdom</td>\n    </tr>\n    <tr>\n      <th>2</th>\n      <td>536365</td>\n      <td>84406B</td>\n      <td>CREAM CUPID HEARTS COAT HANGER</td>\n      <td>8</td>\n      <td>12/1/2010 8:26</td>\n      <td>2.75</td>\n      <td>17850.0</td>\n      <td>United Kingdom</td>\n    </tr>\n    <tr>\n      <th>3</th>\n      <td>536365</td>\n      <td>84029G</td>\n      <td>KNITTED UNION FLAG HOT WATER BOTTLE</td>\n      <td>6</td>\n      <td>12/1/2010 8:26</td>\n      <td>3.39</td>\n      <td>17850.0</td>\n      <td>United Kingdom</td>\n    </tr>\n    <tr>\n      <th>4</th>\n      <td>536365</td>\n      <td>84029E</td>\n      <td>RED WOOLLY HOTTIE WHITE HEART.</td>\n      <td>6</td>\n      <td>12/1/2010 8:26</td>\n      <td>3.39</td>\n      <td>17850.0</td>\n      <td>United Kingdom</td>\n    </tr>\n    <tr>\n      <th>5</th>\n      <td>536365</td>\n      <td>22752</td>\n      <td>SET 7 BABUSHKA NESTING BOXES</td>\n      <td>2</td>\n      <td>12/1/2010 8:26</td>\n      <td>7.65</td>\n      <td>17850.0</td>\n      <td>United Kingdom</td>\n    </tr>\n    <tr>\n      <th>6</th>\n      <td>536365</td>\n      <td>21730</td>\n      <td>GLASS STAR FROSTED T-LIGHT HOLDER</td>\n      <td>6</td>\n      <td>12/1/2010 8:26</td>\n      <td>4.25</td>\n      <td>17850.0</td>\n      <td>United Kingdom</td>\n    </tr>\n    <tr>\n      <th>7</th>\n      <td>536366</td>\n      <td>22633</td>\n      <td>HAND WARMER UNION JACK</td>\n      <td>6</td>\n      <td>12/1/2010 8:28</td>\n      <td>1.85</td>\n      <td>17850.0</td>\n      <td>United Kingdom</td>\n    </tr>\n    <tr>\n      <th>8</th>\n      <td>536366</td>\n      <td>22632</td>\n      <td>HAND WARMER RED POLKA DOT</td>\n      <td>6</td>\n      <td>12/1/2010 8:28</td>\n      <td>1.85</td>\n      <td>17850.0</td>\n      <td>United Kingdom</td>\n    </tr>\n    <tr>\n      <th>9</th>\n      <td>536367</td>\n      <td>84879</td>\n      <td>ASSORTED COLOUR BIRD ORNAMENT</td>\n      <td>32</td>\n      <td>12/1/2010 8:34</td>\n      <td>1.69</td>\n      <td>13047.0</td>\n      <td>United Kingdom</td>\n    </tr>\n  </tbody>\n</table>\n</div>"
     },
     "metadata": {},
     "execution_count": 205
    }
   ],
   "source": [
    "df = pd.read_csv('data.csv' , encoding=\"ISO-8859-1\")\n",
    "df.columns = df.columns.str.lower()\n",
    "df.head(10)"
   ]
  },
  {
   "cell_type": "code",
   "execution_count": 295,
   "metadata": {},
   "outputs": [
    {
     "output_type": "stream",
     "name": "stdout",
     "text": [
      "<class 'pandas.core.frame.DataFrame'>\nInt64Index: 539394 entries, 0 to 541908\nData columns (total 14 columns):\n #   Column       Non-Null Count   Dtype         \n---  ------       --------------   -----         \n 0   invoiceno    539394 non-null  object        \n 1   stockcode    539394 non-null  object        \n 2   description  539394 non-null  object        \n 3   quantity     539394 non-null  int64         \n 4   invoicedate  539394 non-null  datetime64[ns]\n 5   unitprice    539394 non-null  float64       \n 6   customerid   406789 non-null  object        \n 7   country      539394 non-null  object        \n 8   year         539394 non-null  object        \n 9   month        539394 non-null  object        \n 10  day          539394 non-null  object        \n 11  time         539394 non-null  datetime64[ns]\n 12  weekday      539394 non-null  object        \n 13  total_price  539394 non-null  float64       \ndtypes: datetime64[ns](2), float64(2), int64(1), object(9)\nmemory usage: 81.7+ MB\n"
     ]
    }
   ],
   "source": [
    "df.info()"
   ]
  },
  {
   "cell_type": "code",
   "execution_count": 207,
   "metadata": {},
   "outputs": [],
   "source": [
    "df.invoicedate = pd.to_datetime(df.invoicedate) #convert to datetime"
   ]
  },
  {
   "cell_type": "code",
   "execution_count": 208,
   "metadata": {},
   "outputs": [
    {
     "output_type": "stream",
     "name": "stdout",
     "text": [
      "invoiceno      False\nstockcode      False\ndescription     True\nquantity       False\ninvoicedate    False\nunitprice      False\ncustomerid      True\ncountry        False\ndtype: bool\n--------------------\nQTY of N/A\ninvoiceno       0.000000\nstockcode       0.000000\ndescription     0.268311\nquantity        0.000000\ninvoicedate     0.000000\nunitprice       0.000000\ncustomerid     24.926694\ncountry         0.000000\ndtype: float64\n"
     ]
    }
   ],
   "source": [
    "print(df.isnull().any())\n",
    "print('--------------------')\n",
    "print('QTY of N/A')\n",
    "print(df.isnull().sum() / 541909 * 100)"
   ]
  },
  {
   "cell_type": "code",
   "execution_count": 209,
   "metadata": {},
   "outputs": [],
   "source": [
    "def covertnan(x) :\n",
    "    if x == 'nan':\n",
    "        return np.nan\n",
    "    else:\n",
    "        return x\n",
    "\n",
    "df['customerid']= df['customerid'].apply(covertnan) #แก้ไขnanให้pyเข้าใจ"
   ]
  },
  {
   "cell_type": "code",
   "execution_count": 210,
   "metadata": {},
   "outputs": [],
   "source": [
    "def convert_float_str(x):\n",
    "    if np.isnan(x) :\n",
    "        return x\n",
    "    else :\n",
    "        x = float(x)\n",
    "        x = int(x)\n",
    "        x = str(x)\n",
    "        return x\n",
    "\n",
    "df['customerid'] = df['customerid'].apply(convert_float_str)"
   ]
  },
  {
   "cell_type": "code",
   "execution_count": 211,
   "metadata": {},
   "outputs": [
    {
     "output_type": "execute_result",
     "data": {
      "text/plain": [
       "            quantity      unitprice\n",
       "count  541909.000000  541909.000000\n",
       "mean        9.552250       4.611114\n",
       "std       218.081158      96.759853\n",
       "min    -80995.000000  -11062.060000\n",
       "25%         1.000000       1.250000\n",
       "50%         3.000000       2.080000\n",
       "75%        10.000000       4.130000\n",
       "max     80995.000000   38970.000000"
      ],
      "text/html": "<div>\n<style scoped>\n    .dataframe tbody tr th:only-of-type {\n        vertical-align: middle;\n    }\n\n    .dataframe tbody tr th {\n        vertical-align: top;\n    }\n\n    .dataframe thead th {\n        text-align: right;\n    }\n</style>\n<table border=\"1\" class=\"dataframe\">\n  <thead>\n    <tr style=\"text-align: right;\">\n      <th></th>\n      <th>quantity</th>\n      <th>unitprice</th>\n    </tr>\n  </thead>\n  <tbody>\n    <tr>\n      <th>count</th>\n      <td>541909.000000</td>\n      <td>541909.000000</td>\n    </tr>\n    <tr>\n      <th>mean</th>\n      <td>9.552250</td>\n      <td>4.611114</td>\n    </tr>\n    <tr>\n      <th>std</th>\n      <td>218.081158</td>\n      <td>96.759853</td>\n    </tr>\n    <tr>\n      <th>min</th>\n      <td>-80995.000000</td>\n      <td>-11062.060000</td>\n    </tr>\n    <tr>\n      <th>25%</th>\n      <td>1.000000</td>\n      <td>1.250000</td>\n    </tr>\n    <tr>\n      <th>50%</th>\n      <td>3.000000</td>\n      <td>2.080000</td>\n    </tr>\n    <tr>\n      <th>75%</th>\n      <td>10.000000</td>\n      <td>4.130000</td>\n    </tr>\n    <tr>\n      <th>max</th>\n      <td>80995.000000</td>\n      <td>38970.000000</td>\n    </tr>\n  </tbody>\n</table>\n</div>"
     },
     "metadata": {},
     "execution_count": 211
    }
   ],
   "source": [
    "df.describe()"
   ]
  },
  {
   "cell_type": "code",
   "execution_count": 212,
   "metadata": {},
   "outputs": [
    {
     "output_type": "execute_result",
     "data": {
      "text/plain": [
       "            quantity      unitprice\n",
       "count  541909.000000  541909.000000\n",
       "mean       11.340487       4.692766\n",
       "std       217.995482      96.755927\n",
       "min         1.000000       0.000000\n",
       "25%         1.000000       1.250000\n",
       "50%         3.000000       2.080000\n",
       "75%        10.000000       4.130000\n",
       "max     80995.000000   38970.000000"
      ],
      "text/html": "<div>\n<style scoped>\n    .dataframe tbody tr th:only-of-type {\n        vertical-align: middle;\n    }\n\n    .dataframe tbody tr th {\n        vertical-align: top;\n    }\n\n    .dataframe thead th {\n        text-align: right;\n    }\n</style>\n<table border=\"1\" class=\"dataframe\">\n  <thead>\n    <tr style=\"text-align: right;\">\n      <th></th>\n      <th>quantity</th>\n      <th>unitprice</th>\n    </tr>\n  </thead>\n  <tbody>\n    <tr>\n      <th>count</th>\n      <td>541909.000000</td>\n      <td>541909.000000</td>\n    </tr>\n    <tr>\n      <th>mean</th>\n      <td>11.340487</td>\n      <td>4.692766</td>\n    </tr>\n    <tr>\n      <th>std</th>\n      <td>217.995482</td>\n      <td>96.755927</td>\n    </tr>\n    <tr>\n      <th>min</th>\n      <td>1.000000</td>\n      <td>0.000000</td>\n    </tr>\n    <tr>\n      <th>25%</th>\n      <td>1.000000</td>\n      <td>1.250000</td>\n    </tr>\n    <tr>\n      <th>50%</th>\n      <td>3.000000</td>\n      <td>2.080000</td>\n    </tr>\n    <tr>\n      <th>75%</th>\n      <td>10.000000</td>\n      <td>4.130000</td>\n    </tr>\n    <tr>\n      <th>max</th>\n      <td>80995.000000</td>\n      <td>38970.000000</td>\n    </tr>\n  </tbody>\n</table>\n</div>"
     },
     "metadata": {},
     "execution_count": 212
    }
   ],
   "source": [
    "def covertminus(x):\n",
    "    if x < 0 :\n",
    "        return x*-1\n",
    "    else :\n",
    "        return x\n",
    "df['quantity'] = df['quantity'].apply(covertminus)\n",
    "df['unitprice'] = df['unitprice'].apply(covertminus)\n",
    "df.describe()"
   ]
  },
  {
   "cell_type": "code",
   "execution_count": 213,
   "metadata": {},
   "outputs": [],
   "source": [
    "df.loc[df['unitprice'] == 0 ,'unitprice'] = np.nan\n",
    "df.dropna(subset = ['description' , 'unitprice'] , inplace=True)"
   ]
  },
  {
   "cell_type": "code",
   "execution_count": 214,
   "metadata": {},
   "outputs": [],
   "source": [
    "df['year'] = df['invoicedate'].dt.year.astype(str)\n",
    "df['month'] = df['invoicedate'].dt.month.astype(str)\n",
    "df['day'] = pd.DatetimeIndex(df['invoicedate']).date\n",
    "df['time'] = df['invoicedate'].dt.time\n",
    "df['time'] = pd.to_datetime(df['time'] , format= '%H:%M:%S')\n",
    "df['weekday'] = df['invoicedate'].dt.day_name()\n",
    "df['total_price'] = df['unitprice'] * df['quantity']"
   ]
  },
  {
   "cell_type": "code",
   "execution_count": 215,
   "metadata": {},
   "outputs": [
    {
     "output_type": "execute_result",
     "data": {
      "text/plain": [
       "       invoiceno stockcode                          description  quantity  \\\n",
       "0         536365    85123A   WHITE HANGING HEART T-LIGHT HOLDER         6   \n",
       "1         536365     71053                  WHITE METAL LANTERN         6   \n",
       "2         536365    84406B       CREAM CUPID HEARTS COAT HANGER         8   \n",
       "3         536365    84029G  KNITTED UNION FLAG HOT WATER BOTTLE         6   \n",
       "4         536365    84029E       RED WOOLLY HOTTIE WHITE HEART.         6   \n",
       "...          ...       ...                                  ...       ...   \n",
       "541904    581587     22613          PACK OF 20 SPACEBOY NAPKINS        12   \n",
       "541905    581587     22899         CHILDREN'S APRON DOLLY GIRL          6   \n",
       "541906    581587     23254        CHILDRENS CUTLERY DOLLY GIRL          4   \n",
       "541907    581587     23255      CHILDRENS CUTLERY CIRCUS PARADE         4   \n",
       "541908    581587     22138        BAKING SET 9 PIECE RETROSPOT          3   \n",
       "\n",
       "               invoicedate  unitprice customerid         country  year month  \\\n",
       "0      2010-12-01 08:26:00       2.55      17850  United Kingdom  2010    12   \n",
       "1      2010-12-01 08:26:00       3.39      17850  United Kingdom  2010    12   \n",
       "2      2010-12-01 08:26:00       2.75      17850  United Kingdom  2010    12   \n",
       "3      2010-12-01 08:26:00       3.39      17850  United Kingdom  2010    12   \n",
       "4      2010-12-01 08:26:00       3.39      17850  United Kingdom  2010    12   \n",
       "...                    ...        ...        ...             ...   ...   ...   \n",
       "541904 2011-12-09 12:50:00       0.85      12680          France  2011    12   \n",
       "541905 2011-12-09 12:50:00       2.10      12680          France  2011    12   \n",
       "541906 2011-12-09 12:50:00       4.15      12680          France  2011    12   \n",
       "541907 2011-12-09 12:50:00       4.15      12680          France  2011    12   \n",
       "541908 2011-12-09 12:50:00       4.95      12680          France  2011    12   \n",
       "\n",
       "               day                time    weekday  total_price  \n",
       "0       2010-12-01 1900-01-01 08:26:00  Wednesday        15.30  \n",
       "1       2010-12-01 1900-01-01 08:26:00  Wednesday        20.34  \n",
       "2       2010-12-01 1900-01-01 08:26:00  Wednesday        22.00  \n",
       "3       2010-12-01 1900-01-01 08:26:00  Wednesday        20.34  \n",
       "4       2010-12-01 1900-01-01 08:26:00  Wednesday        20.34  \n",
       "...            ...                 ...        ...          ...  \n",
       "541904  2011-12-09 1900-01-01 12:50:00     Friday        10.20  \n",
       "541905  2011-12-09 1900-01-01 12:50:00     Friday        12.60  \n",
       "541906  2011-12-09 1900-01-01 12:50:00     Friday        16.60  \n",
       "541907  2011-12-09 1900-01-01 12:50:00     Friday        16.60  \n",
       "541908  2011-12-09 1900-01-01 12:50:00     Friday        14.85  \n",
       "\n",
       "[539394 rows x 14 columns]"
      ],
      "text/html": "<div>\n<style scoped>\n    .dataframe tbody tr th:only-of-type {\n        vertical-align: middle;\n    }\n\n    .dataframe tbody tr th {\n        vertical-align: top;\n    }\n\n    .dataframe thead th {\n        text-align: right;\n    }\n</style>\n<table border=\"1\" class=\"dataframe\">\n  <thead>\n    <tr style=\"text-align: right;\">\n      <th></th>\n      <th>invoiceno</th>\n      <th>stockcode</th>\n      <th>description</th>\n      <th>quantity</th>\n      <th>invoicedate</th>\n      <th>unitprice</th>\n      <th>customerid</th>\n      <th>country</th>\n      <th>year</th>\n      <th>month</th>\n      <th>day</th>\n      <th>time</th>\n      <th>weekday</th>\n      <th>total_price</th>\n    </tr>\n  </thead>\n  <tbody>\n    <tr>\n      <th>0</th>\n      <td>536365</td>\n      <td>85123A</td>\n      <td>WHITE HANGING HEART T-LIGHT HOLDER</td>\n      <td>6</td>\n      <td>2010-12-01 08:26:00</td>\n      <td>2.55</td>\n      <td>17850</td>\n      <td>United Kingdom</td>\n      <td>2010</td>\n      <td>12</td>\n      <td>2010-12-01</td>\n      <td>1900-01-01 08:26:00</td>\n      <td>Wednesday</td>\n      <td>15.30</td>\n    </tr>\n    <tr>\n      <th>1</th>\n      <td>536365</td>\n      <td>71053</td>\n      <td>WHITE METAL LANTERN</td>\n      <td>6</td>\n      <td>2010-12-01 08:26:00</td>\n      <td>3.39</td>\n      <td>17850</td>\n      <td>United Kingdom</td>\n      <td>2010</td>\n      <td>12</td>\n      <td>2010-12-01</td>\n      <td>1900-01-01 08:26:00</td>\n      <td>Wednesday</td>\n      <td>20.34</td>\n    </tr>\n    <tr>\n      <th>2</th>\n      <td>536365</td>\n      <td>84406B</td>\n      <td>CREAM CUPID HEARTS COAT HANGER</td>\n      <td>8</td>\n      <td>2010-12-01 08:26:00</td>\n      <td>2.75</td>\n      <td>17850</td>\n      <td>United Kingdom</td>\n      <td>2010</td>\n      <td>12</td>\n      <td>2010-12-01</td>\n      <td>1900-01-01 08:26:00</td>\n      <td>Wednesday</td>\n      <td>22.00</td>\n    </tr>\n    <tr>\n      <th>3</th>\n      <td>536365</td>\n      <td>84029G</td>\n      <td>KNITTED UNION FLAG HOT WATER BOTTLE</td>\n      <td>6</td>\n      <td>2010-12-01 08:26:00</td>\n      <td>3.39</td>\n      <td>17850</td>\n      <td>United Kingdom</td>\n      <td>2010</td>\n      <td>12</td>\n      <td>2010-12-01</td>\n      <td>1900-01-01 08:26:00</td>\n      <td>Wednesday</td>\n      <td>20.34</td>\n    </tr>\n    <tr>\n      <th>4</th>\n      <td>536365</td>\n      <td>84029E</td>\n      <td>RED WOOLLY HOTTIE WHITE HEART.</td>\n      <td>6</td>\n      <td>2010-12-01 08:26:00</td>\n      <td>3.39</td>\n      <td>17850</td>\n      <td>United Kingdom</td>\n      <td>2010</td>\n      <td>12</td>\n      <td>2010-12-01</td>\n      <td>1900-01-01 08:26:00</td>\n      <td>Wednesday</td>\n      <td>20.34</td>\n    </tr>\n    <tr>\n      <th>...</th>\n      <td>...</td>\n      <td>...</td>\n      <td>...</td>\n      <td>...</td>\n      <td>...</td>\n      <td>...</td>\n      <td>...</td>\n      <td>...</td>\n      <td>...</td>\n      <td>...</td>\n      <td>...</td>\n      <td>...</td>\n      <td>...</td>\n      <td>...</td>\n    </tr>\n    <tr>\n      <th>541904</th>\n      <td>581587</td>\n      <td>22613</td>\n      <td>PACK OF 20 SPACEBOY NAPKINS</td>\n      <td>12</td>\n      <td>2011-12-09 12:50:00</td>\n      <td>0.85</td>\n      <td>12680</td>\n      <td>France</td>\n      <td>2011</td>\n      <td>12</td>\n      <td>2011-12-09</td>\n      <td>1900-01-01 12:50:00</td>\n      <td>Friday</td>\n      <td>10.20</td>\n    </tr>\n    <tr>\n      <th>541905</th>\n      <td>581587</td>\n      <td>22899</td>\n      <td>CHILDREN'S APRON DOLLY GIRL</td>\n      <td>6</td>\n      <td>2011-12-09 12:50:00</td>\n      <td>2.10</td>\n      <td>12680</td>\n      <td>France</td>\n      <td>2011</td>\n      <td>12</td>\n      <td>2011-12-09</td>\n      <td>1900-01-01 12:50:00</td>\n      <td>Friday</td>\n      <td>12.60</td>\n    </tr>\n    <tr>\n      <th>541906</th>\n      <td>581587</td>\n      <td>23254</td>\n      <td>CHILDRENS CUTLERY DOLLY GIRL</td>\n      <td>4</td>\n      <td>2011-12-09 12:50:00</td>\n      <td>4.15</td>\n      <td>12680</td>\n      <td>France</td>\n      <td>2011</td>\n      <td>12</td>\n      <td>2011-12-09</td>\n      <td>1900-01-01 12:50:00</td>\n      <td>Friday</td>\n      <td>16.60</td>\n    </tr>\n    <tr>\n      <th>541907</th>\n      <td>581587</td>\n      <td>23255</td>\n      <td>CHILDRENS CUTLERY CIRCUS PARADE</td>\n      <td>4</td>\n      <td>2011-12-09 12:50:00</td>\n      <td>4.15</td>\n      <td>12680</td>\n      <td>France</td>\n      <td>2011</td>\n      <td>12</td>\n      <td>2011-12-09</td>\n      <td>1900-01-01 12:50:00</td>\n      <td>Friday</td>\n      <td>16.60</td>\n    </tr>\n    <tr>\n      <th>541908</th>\n      <td>581587</td>\n      <td>22138</td>\n      <td>BAKING SET 9 PIECE RETROSPOT</td>\n      <td>3</td>\n      <td>2011-12-09 12:50:00</td>\n      <td>4.95</td>\n      <td>12680</td>\n      <td>France</td>\n      <td>2011</td>\n      <td>12</td>\n      <td>2011-12-09</td>\n      <td>1900-01-01 12:50:00</td>\n      <td>Friday</td>\n      <td>14.85</td>\n    </tr>\n  </tbody>\n</table>\n<p>539394 rows × 14 columns</p>\n</div>"
     },
     "metadata": {},
     "execution_count": 215
    }
   ],
   "source": [
    "df"
   ]
  },
  {
   "cell_type": "code",
   "execution_count": 216,
   "metadata": {},
   "outputs": [
    {
     "output_type": "execute_result",
     "data": {
      "text/html": "\n<div id=\"altair-viz-80d0de63d3a942e2831d77c76ddf165b\"></div>\n<script type=\"text/javascript\">\n  (function(spec, embedOpt){\n    let outputDiv = document.currentScript.previousElementSibling;\n    if (outputDiv.id !== \"altair-viz-80d0de63d3a942e2831d77c76ddf165b\") {\n      outputDiv = document.getElementById(\"altair-viz-80d0de63d3a942e2831d77c76ddf165b\");\n    }\n    const paths = {\n      \"vega\": \"https://cdn.jsdelivr.net/npm//vega@5?noext\",\n      \"vega-lib\": \"https://cdn.jsdelivr.net/npm//vega-lib?noext\",\n      \"vega-lite\": \"https://cdn.jsdelivr.net/npm//vega-lite@4.8.1?noext\",\n      \"vega-embed\": \"https://cdn.jsdelivr.net/npm//vega-embed@6?noext\",\n    };\n\n    function loadScript(lib) {\n      return new Promise(function(resolve, reject) {\n        var s = document.createElement('script');\n        s.src = paths[lib];\n        s.async = true;\n        s.onload = () => resolve(paths[lib]);\n        s.onerror = () => reject(`Error loading script: ${paths[lib]}`);\n        document.getElementsByTagName(\"head\")[0].appendChild(s);\n      });\n    }\n\n    function showError(err) {\n      outputDiv.innerHTML = `<div class=\"error\" style=\"color:red;\">${err}</div>`;\n      throw err;\n    }\n\n    function displayChart(vegaEmbed) {\n      vegaEmbed(outputDiv, spec, embedOpt)\n        .catch(err => showError(`Javascript Error: ${err.message}<br>This usually means there's a typo in your chart specification. See the javascript console for the full traceback.`));\n    }\n\n    if(typeof define === \"function\" && define.amd) {\n      requirejs.config({paths});\n      require([\"vega-embed\"], displayChart, err => showError(`Error loading script: ${err.message}`));\n    } else if (typeof vegaEmbed === \"function\") {\n      displayChart(vegaEmbed);\n    } else {\n      loadScript(\"vega\")\n        .then(() => loadScript(\"vega-lite\"))\n        .then(() => loadScript(\"vega-embed\"))\n        .catch(showError)\n        .then(() => displayChart(vegaEmbed));\n    }\n  })({\"config\": {\"view\": {\"continuousWidth\": 400, \"continuousHeight\": 300}}, \"data\": {\"name\": \"data-d89d34da9966a2d1c7b9fc775d07b518\"}, \"mark\": \"bar\", \"encoding\": {\"x\": {\"type\": \"ordinal\", \"field\": \"country\"}, \"y\": {\"type\": \"quantitative\", \"field\": \"total_price\"}}, \"$schema\": \"https://vega.github.io/schema/vega-lite/v4.8.1.json\", \"datasets\": {\"data-d89d34da9966a2d1c7b9fc775d07b518\": [{\"country\": \"Australia\", \"total_price\": 139965.3499999995}, {\"country\": \"Austria\", \"total_price\": 10243.039999999995}, {\"country\": \"Bahrain\", \"total_price\": 959.8800000000001}, {\"country\": \"Belgium\", \"total_price\": 41481.71999999996}, {\"country\": \"Brazil\", \"total_price\": 1143.6000000000001}, {\"country\": \"Canada\", \"total_price\": 3666.380000000001}, {\"country\": \"Channel Islands\", \"total_price\": 20814.589999999975}, {\"country\": \"Cyprus\", \"total_price\": 14234.469999999998}, {\"country\": \"Czech Republic\", \"total_price\": 945.7600000000001}, {\"country\": \"Denmark\", \"total_price\": 19142.539999999997}, {\"country\": \"EIRE\", \"total_price\": 303631.09999999945}, {\"country\": \"European Community\", \"total_price\": 1308.7500000000002}, {\"country\": \"Finland\", \"total_price\": 22765.41999999998}, {\"country\": \"France\", \"total_price\": 222026.31999999966}, {\"country\": \"Germany\", \"total_price\": 236036.06999999838}, {\"country\": \"Greece\", \"total_price\": 4810.5199999999995}, {\"country\": \"Hong Kong\", \"total_price\": 21266.560000000027}, {\"country\": \"Iceland\", \"total_price\": 4309.999999999997}, {\"country\": \"Israel\", \"total_price\": 8362.700000000003}, {\"country\": \"Italy\", \"total_price\": 18075.970000000012}, {\"country\": \"Japan\", \"total_price\": 39492.120000000024}, {\"country\": \"Lebanon\", \"total_price\": 1693.8800000000003}, {\"country\": \"Lithuania\", \"total_price\": 1661.06}, {\"country\": \"Malta\", \"total_price\": 2945.71}, {\"country\": \"Netherlands\", \"total_price\": 286231.1400000001}, {\"country\": \"Norway\", \"total_price\": 37167.420000000035}, {\"country\": \"Poland\", \"total_price\": 7456.159999999998}, {\"country\": \"Portugal\", \"total_price\": 38127.18}, {\"country\": \"RSA\", \"total_price\": 1002.3099999999998}, {\"country\": \"Saudi Arabia\", \"total_price\": 160.67}, {\"country\": \"Singapore\", \"total_price\": 33438.18999999999}, {\"country\": \"Spain\", \"total_price\": 68379.63999999985}, {\"country\": \"Sweden\", \"total_price\": 40160.75000000003}, {\"country\": \"Switzerland\", \"total_price\": 57794.4500000001}, {\"country\": \"USA\", \"total_price\": 5429.859999999998}, {\"country\": \"United Arab Emirates\", \"total_price\": 1902.2800000000007}, {\"country\": \"United Kingdom\", \"total_price\": 9862637.804003326}, {\"country\": \"Unspecified\", \"total_price\": 4749.789999999996}]}}, {\"mode\": \"vega-lite\"});\n</script>",
      "text/plain": [
       "alt.Chart(...)"
      ]
     },
     "metadata": {},
     "execution_count": 216
    }
   ],
   "source": [
    "df_c = df.groupby(['country'] , as_index=False)['total_price'].sum()\n",
    "alt.Chart(df_c).mark_bar().encode(\n",
    "    x = 'country:O' ,\n",
    "    y = 'total_price:Q'\n",
    ")"
   ]
  },
  {
   "source": [
    "## Select United Kingdom"
   ],
   "cell_type": "markdown",
   "metadata": {}
  },
  {
   "cell_type": "code",
   "execution_count": 217,
   "metadata": {},
   "outputs": [
    {
     "output_type": "execute_result",
     "data": {
      "text/plain": [
       "invoiceno       0.000000\n",
       "stockcode       0.000000\n",
       "description     0.000000\n",
       "quantity        0.000000\n",
       "invoicedate     0.000000\n",
       "unitprice       0.000000\n",
       "customerid     26.598794\n",
       "country         0.000000\n",
       "year            0.000000\n",
       "month           0.000000\n",
       "day             0.000000\n",
       "time            0.000000\n",
       "weekday         0.000000\n",
       "total_price     0.000000\n",
       "dtype: float64"
      ]
     },
     "metadata": {},
     "execution_count": 217
    }
   ],
   "source": [
    "df_e = df[df['country'] == 'United Kingdom']\n",
    "df_e.isnull().sum()/df_e['description'].count()*100"
   ]
  },
  {
   "cell_type": "code",
   "execution_count": 218,
   "metadata": {},
   "outputs": [
    {
     "output_type": "execute_result",
     "data": {
      "text/plain": [
       "       invoiceno stockcode                          description  quantity  \\\n",
       "0         536365    85123A   WHITE HANGING HEART T-LIGHT HOLDER         6   \n",
       "7         536366     22633               HAND WARMER UNION JACK         6   \n",
       "9         536367     84879        ASSORTED COLOUR BIRD ORNAMENT        32   \n",
       "21        536368     22960             JAM MAKING SET WITH JARS         6   \n",
       "25        536369     21756             BATH BUILDING BLOCK WORD         3   \n",
       "...          ...       ...                                  ...       ...   \n",
       "541863    581582     23552         BICYCLE PUNCTURE REPAIR KIT          6   \n",
       "541865    581583     20725              LUNCH BAG RED RETROSPOT        40   \n",
       "541867    581584     20832     RED FLOCK LOVE HEART PHOTO FRAME        72   \n",
       "541869    581585     22481       BLACK TEA TOWEL CLASSIC DESIGN        12   \n",
       "541890    581586     22061  LARGE CAKE STAND  HANGING STRAWBERY         8   \n",
       "\n",
       "               invoicedate  unitprice customerid         country  year month  \\\n",
       "0      2010-12-01 08:26:00       2.55      17850  United Kingdom  2010    12   \n",
       "7      2010-12-01 08:28:00       1.85      17850  United Kingdom  2010    12   \n",
       "9      2010-12-01 08:34:00       1.69      13047  United Kingdom  2010    12   \n",
       "21     2010-12-01 08:34:00       4.25      13047  United Kingdom  2010    12   \n",
       "25     2010-12-01 08:35:00       5.95      13047  United Kingdom  2010    12   \n",
       "...                    ...        ...        ...             ...   ...   ...   \n",
       "541863 2011-12-09 12:21:00       2.08      17581  United Kingdom  2011    12   \n",
       "541865 2011-12-09 12:23:00       1.45      13777  United Kingdom  2011    12   \n",
       "541867 2011-12-09 12:25:00       0.72      13777  United Kingdom  2011    12   \n",
       "541869 2011-12-09 12:31:00       0.39      15804  United Kingdom  2011    12   \n",
       "541890 2011-12-09 12:49:00       2.95      13113  United Kingdom  2011    12   \n",
       "\n",
       "               day                time    weekday  total_price  \n",
       "0       2010-12-01 1900-01-01 08:26:00  Wednesday        15.30  \n",
       "7       2010-12-01 1900-01-01 08:28:00  Wednesday        11.10  \n",
       "9       2010-12-01 1900-01-01 08:34:00  Wednesday        54.08  \n",
       "21      2010-12-01 1900-01-01 08:34:00  Wednesday        25.50  \n",
       "25      2010-12-01 1900-01-01 08:35:00  Wednesday        17.85  \n",
       "...            ...                 ...        ...          ...  \n",
       "541863  2011-12-09 1900-01-01 12:21:00     Friday        12.48  \n",
       "541865  2011-12-09 1900-01-01 12:23:00     Friday        58.00  \n",
       "541867  2011-12-09 1900-01-01 12:25:00     Friday        51.84  \n",
       "541869  2011-12-09 1900-01-01 12:31:00     Friday         4.68  \n",
       "541890  2011-12-09 1900-01-01 12:49:00     Friday        23.60  \n",
       "\n",
       "[21393 rows x 14 columns]"
      ],
      "text/html": "<div>\n<style scoped>\n    .dataframe tbody tr th:only-of-type {\n        vertical-align: middle;\n    }\n\n    .dataframe tbody tr th {\n        vertical-align: top;\n    }\n\n    .dataframe thead th {\n        text-align: right;\n    }\n</style>\n<table border=\"1\" class=\"dataframe\">\n  <thead>\n    <tr style=\"text-align: right;\">\n      <th></th>\n      <th>invoiceno</th>\n      <th>stockcode</th>\n      <th>description</th>\n      <th>quantity</th>\n      <th>invoicedate</th>\n      <th>unitprice</th>\n      <th>customerid</th>\n      <th>country</th>\n      <th>year</th>\n      <th>month</th>\n      <th>day</th>\n      <th>time</th>\n      <th>weekday</th>\n      <th>total_price</th>\n    </tr>\n  </thead>\n  <tbody>\n    <tr>\n      <th>0</th>\n      <td>536365</td>\n      <td>85123A</td>\n      <td>WHITE HANGING HEART T-LIGHT HOLDER</td>\n      <td>6</td>\n      <td>2010-12-01 08:26:00</td>\n      <td>2.55</td>\n      <td>17850</td>\n      <td>United Kingdom</td>\n      <td>2010</td>\n      <td>12</td>\n      <td>2010-12-01</td>\n      <td>1900-01-01 08:26:00</td>\n      <td>Wednesday</td>\n      <td>15.30</td>\n    </tr>\n    <tr>\n      <th>7</th>\n      <td>536366</td>\n      <td>22633</td>\n      <td>HAND WARMER UNION JACK</td>\n      <td>6</td>\n      <td>2010-12-01 08:28:00</td>\n      <td>1.85</td>\n      <td>17850</td>\n      <td>United Kingdom</td>\n      <td>2010</td>\n      <td>12</td>\n      <td>2010-12-01</td>\n      <td>1900-01-01 08:28:00</td>\n      <td>Wednesday</td>\n      <td>11.10</td>\n    </tr>\n    <tr>\n      <th>9</th>\n      <td>536367</td>\n      <td>84879</td>\n      <td>ASSORTED COLOUR BIRD ORNAMENT</td>\n      <td>32</td>\n      <td>2010-12-01 08:34:00</td>\n      <td>1.69</td>\n      <td>13047</td>\n      <td>United Kingdom</td>\n      <td>2010</td>\n      <td>12</td>\n      <td>2010-12-01</td>\n      <td>1900-01-01 08:34:00</td>\n      <td>Wednesday</td>\n      <td>54.08</td>\n    </tr>\n    <tr>\n      <th>21</th>\n      <td>536368</td>\n      <td>22960</td>\n      <td>JAM MAKING SET WITH JARS</td>\n      <td>6</td>\n      <td>2010-12-01 08:34:00</td>\n      <td>4.25</td>\n      <td>13047</td>\n      <td>United Kingdom</td>\n      <td>2010</td>\n      <td>12</td>\n      <td>2010-12-01</td>\n      <td>1900-01-01 08:34:00</td>\n      <td>Wednesday</td>\n      <td>25.50</td>\n    </tr>\n    <tr>\n      <th>25</th>\n      <td>536369</td>\n      <td>21756</td>\n      <td>BATH BUILDING BLOCK WORD</td>\n      <td>3</td>\n      <td>2010-12-01 08:35:00</td>\n      <td>5.95</td>\n      <td>13047</td>\n      <td>United Kingdom</td>\n      <td>2010</td>\n      <td>12</td>\n      <td>2010-12-01</td>\n      <td>1900-01-01 08:35:00</td>\n      <td>Wednesday</td>\n      <td>17.85</td>\n    </tr>\n    <tr>\n      <th>...</th>\n      <td>...</td>\n      <td>...</td>\n      <td>...</td>\n      <td>...</td>\n      <td>...</td>\n      <td>...</td>\n      <td>...</td>\n      <td>...</td>\n      <td>...</td>\n      <td>...</td>\n      <td>...</td>\n      <td>...</td>\n      <td>...</td>\n      <td>...</td>\n    </tr>\n    <tr>\n      <th>541863</th>\n      <td>581582</td>\n      <td>23552</td>\n      <td>BICYCLE PUNCTURE REPAIR KIT</td>\n      <td>6</td>\n      <td>2011-12-09 12:21:00</td>\n      <td>2.08</td>\n      <td>17581</td>\n      <td>United Kingdom</td>\n      <td>2011</td>\n      <td>12</td>\n      <td>2011-12-09</td>\n      <td>1900-01-01 12:21:00</td>\n      <td>Friday</td>\n      <td>12.48</td>\n    </tr>\n    <tr>\n      <th>541865</th>\n      <td>581583</td>\n      <td>20725</td>\n      <td>LUNCH BAG RED RETROSPOT</td>\n      <td>40</td>\n      <td>2011-12-09 12:23:00</td>\n      <td>1.45</td>\n      <td>13777</td>\n      <td>United Kingdom</td>\n      <td>2011</td>\n      <td>12</td>\n      <td>2011-12-09</td>\n      <td>1900-01-01 12:23:00</td>\n      <td>Friday</td>\n      <td>58.00</td>\n    </tr>\n    <tr>\n      <th>541867</th>\n      <td>581584</td>\n      <td>20832</td>\n      <td>RED FLOCK LOVE HEART PHOTO FRAME</td>\n      <td>72</td>\n      <td>2011-12-09 12:25:00</td>\n      <td>0.72</td>\n      <td>13777</td>\n      <td>United Kingdom</td>\n      <td>2011</td>\n      <td>12</td>\n      <td>2011-12-09</td>\n      <td>1900-01-01 12:25:00</td>\n      <td>Friday</td>\n      <td>51.84</td>\n    </tr>\n    <tr>\n      <th>541869</th>\n      <td>581585</td>\n      <td>22481</td>\n      <td>BLACK TEA TOWEL CLASSIC DESIGN</td>\n      <td>12</td>\n      <td>2011-12-09 12:31:00</td>\n      <td>0.39</td>\n      <td>15804</td>\n      <td>United Kingdom</td>\n      <td>2011</td>\n      <td>12</td>\n      <td>2011-12-09</td>\n      <td>1900-01-01 12:31:00</td>\n      <td>Friday</td>\n      <td>4.68</td>\n    </tr>\n    <tr>\n      <th>541890</th>\n      <td>581586</td>\n      <td>22061</td>\n      <td>LARGE CAKE STAND  HANGING STRAWBERY</td>\n      <td>8</td>\n      <td>2011-12-09 12:49:00</td>\n      <td>2.95</td>\n      <td>13113</td>\n      <td>United Kingdom</td>\n      <td>2011</td>\n      <td>12</td>\n      <td>2011-12-09</td>\n      <td>1900-01-01 12:49:00</td>\n      <td>Friday</td>\n      <td>23.60</td>\n    </tr>\n  </tbody>\n</table>\n<p>21393 rows × 14 columns</p>\n</div>"
     },
     "metadata": {},
     "execution_count": 218
    }
   ],
   "source": [
    "df_e.drop_duplicates(subset=['invoiceno', 'customerid'], keep=\"first\", inplace=True)\n",
    "df_e"
   ]
  },
  {
   "source": [
    "# RFM Segmentation"
   ],
   "cell_type": "markdown",
   "metadata": {}
  },
  {
   "cell_type": "code",
   "execution_count": 219,
   "metadata": {},
   "outputs": [
    {
     "output_type": "stream",
     "name": "stdout",
     "text": [
      "2011-12-09\n2012-01-01\n"
     ]
    }
   ],
   "source": [
    "# RECENCY\n",
    "print(df['day'].max())\n",
    "now = dt.date(2012,1,1)\n",
    "print(now)\n",
    "\n",
    "def recency(x) :\n",
    "    date = now - x\n",
    "    return date.days"
   ]
  },
  {
   "cell_type": "code",
   "execution_count": 220,
   "metadata": {},
   "outputs": [
    {
     "output_type": "execute_result",
     "data": {
      "text/plain": [
       "     customerid  frequency  monetary_value  recency\n",
       "0         12346          2       154367.20      348\n",
       "1         12747         11          689.49       25\n",
       "2         12748        223         7055.46       23\n",
       "3         12749          8          134.45       26\n",
       "4         12820          4           58.20       26\n",
       "...         ...        ...             ...      ...\n",
       "3944      18280          1           23.70      300\n",
       "3945      18281          1            5.04      203\n",
       "3946      18282          3           39.70       30\n",
       "3947      18283         16           66.75       26\n",
       "3948      18287          3           80.40       65\n",
       "\n",
       "[3949 rows x 4 columns]"
      ],
      "text/html": "<div>\n<style scoped>\n    .dataframe tbody tr th:only-of-type {\n        vertical-align: middle;\n    }\n\n    .dataframe tbody tr th {\n        vertical-align: top;\n    }\n\n    .dataframe thead th {\n        text-align: right;\n    }\n</style>\n<table border=\"1\" class=\"dataframe\">\n  <thead>\n    <tr style=\"text-align: right;\">\n      <th></th>\n      <th>customerid</th>\n      <th>frequency</th>\n      <th>monetary_value</th>\n      <th>recency</th>\n    </tr>\n  </thead>\n  <tbody>\n    <tr>\n      <th>0</th>\n      <td>12346</td>\n      <td>2</td>\n      <td>154367.20</td>\n      <td>348</td>\n    </tr>\n    <tr>\n      <th>1</th>\n      <td>12747</td>\n      <td>11</td>\n      <td>689.49</td>\n      <td>25</td>\n    </tr>\n    <tr>\n      <th>2</th>\n      <td>12748</td>\n      <td>223</td>\n      <td>7055.46</td>\n      <td>23</td>\n    </tr>\n    <tr>\n      <th>3</th>\n      <td>12749</td>\n      <td>8</td>\n      <td>134.45</td>\n      <td>26</td>\n    </tr>\n    <tr>\n      <th>4</th>\n      <td>12820</td>\n      <td>4</td>\n      <td>58.20</td>\n      <td>26</td>\n    </tr>\n    <tr>\n      <th>...</th>\n      <td>...</td>\n      <td>...</td>\n      <td>...</td>\n      <td>...</td>\n    </tr>\n    <tr>\n      <th>3944</th>\n      <td>18280</td>\n      <td>1</td>\n      <td>23.70</td>\n      <td>300</td>\n    </tr>\n    <tr>\n      <th>3945</th>\n      <td>18281</td>\n      <td>1</td>\n      <td>5.04</td>\n      <td>203</td>\n    </tr>\n    <tr>\n      <th>3946</th>\n      <td>18282</td>\n      <td>3</td>\n      <td>39.70</td>\n      <td>30</td>\n    </tr>\n    <tr>\n      <th>3947</th>\n      <td>18283</td>\n      <td>16</td>\n      <td>66.75</td>\n      <td>26</td>\n    </tr>\n    <tr>\n      <th>3948</th>\n      <td>18287</td>\n      <td>3</td>\n      <td>80.40</td>\n      <td>65</td>\n    </tr>\n  </tbody>\n</table>\n<p>3949 rows × 4 columns</p>\n</div>"
     },
     "metadata": {},
     "execution_count": 220
    }
   ],
   "source": [
    "df_x = df_e.groupby(['customerid'] , as_index=False).agg({'invoiceno' : 'count','day' : 'max' , 'total_price' : 'sum'})\n",
    "df_x.rename(columns={'invoiceno' : 'frequency' , 'total_price' : 'monetary_value'}, inplace=True)\n",
    "df_x['recency'] = df_x['day'].apply(recency)\n",
    "df_x.drop(columns = {'day'} , inplace = True)\n",
    "df_x"
   ]
  },
  {
   "cell_type": "code",
   "execution_count": 221,
   "metadata": {},
   "outputs": [
    {
     "output_type": "execute_result",
     "data": {
      "text/plain": [
       "      frequency  monetary_value  recency\n",
       "0.25        1.0           18.77     39.0\n",
       "0.50        3.0           50.70     73.0\n",
       "0.75        5.0          141.90    166.0"
      ],
      "text/html": "<div>\n<style scoped>\n    .dataframe tbody tr th:only-of-type {\n        vertical-align: middle;\n    }\n\n    .dataframe tbody tr th {\n        vertical-align: top;\n    }\n\n    .dataframe thead th {\n        text-align: right;\n    }\n</style>\n<table border=\"1\" class=\"dataframe\">\n  <thead>\n    <tr style=\"text-align: right;\">\n      <th></th>\n      <th>frequency</th>\n      <th>monetary_value</th>\n      <th>recency</th>\n    </tr>\n  </thead>\n  <tbody>\n    <tr>\n      <th>0.25</th>\n      <td>1.0</td>\n      <td>18.77</td>\n      <td>39.0</td>\n    </tr>\n    <tr>\n      <th>0.50</th>\n      <td>3.0</td>\n      <td>50.70</td>\n      <td>73.0</td>\n    </tr>\n    <tr>\n      <th>0.75</th>\n      <td>5.0</td>\n      <td>141.90</td>\n      <td>166.0</td>\n    </tr>\n  </tbody>\n</table>\n</div>"
     },
     "metadata": {},
     "execution_count": 221
    }
   ],
   "source": [
    "quantiles = df_x.quantile(q=[0.25,0.50,0.75])\n",
    "quantiles"
   ]
  },
  {
   "cell_type": "code",
   "execution_count": 222,
   "metadata": {},
   "outputs": [
    {
     "output_type": "execute_result",
     "data": {
      "text/plain": [
       "{'frequency': 0.25    1.0\n",
       " 0.50    3.0\n",
       " 0.75    5.0\n",
       " Name: frequency, dtype: float64,\n",
       " 'monetary_value': 0.25     18.77\n",
       " 0.50     50.70\n",
       " 0.75    141.90\n",
       " Name: monetary_value, dtype: float64,\n",
       " 'recency': 0.25     39.0\n",
       " 0.50     73.0\n",
       " 0.75    166.0\n",
       " Name: recency, dtype: float64}"
      ]
     },
     "metadata": {},
     "execution_count": 222
    }
   ],
   "source": [
    "quantiles = dict(quantiles)\n",
    "quantiles"
   ]
  },
  {
   "cell_type": "code",
   "execution_count": 223,
   "metadata": {},
   "outputs": [
    {
     "output_type": "execute_result",
     "data": {
      "text/plain": [
       "1.0"
      ]
     },
     "metadata": {},
     "execution_count": 223
    }
   ],
   "source": [
    "quantiles['frequency'][0.25]"
   ]
  },
  {
   "cell_type": "code",
   "execution_count": 224,
   "metadata": {},
   "outputs": [],
   "source": [
    "def rscore(x,p):\n",
    "    if x <= quantiles[p][0.25]:\n",
    "        return str(4)\n",
    "    elif x <= quantiles[p][0.5]:\n",
    "        return str(3)\n",
    "    elif x <= quantiles[p][0.75]:\n",
    "        return str(2)    \n",
    "    else :\n",
    "        return str(1)\n",
    "\n",
    "def mfscore(x,p):\n",
    "    if x <= quantiles[p][0.25]:\n",
    "        return str(1)\n",
    "    elif x <= quantiles[p][0.5]:\n",
    "        return str(2)\n",
    "    elif x <= quantiles[p][0.75]:\n",
    "        return str(3)\n",
    "    else :\n",
    "        return str(4)"
   ]
  },
  {
   "cell_type": "code",
   "execution_count": 225,
   "metadata": {},
   "outputs": [
    {
     "output_type": "execute_result",
     "data": {
      "text/plain": [
       "     customerid  frequency  monetary_value  recency r_quantile f_quantile  \\\n",
       "0         12346          2       154367.20      348          1          2   \n",
       "1         12747         11          689.49       25          4          4   \n",
       "2         12748        223         7055.46       23          4          4   \n",
       "3         12749          8          134.45       26          4          4   \n",
       "4         12820          4           58.20       26          4          3   \n",
       "...         ...        ...             ...      ...        ...        ...   \n",
       "3944      18280          1           23.70      300          1          1   \n",
       "3945      18281          1            5.04      203          1          1   \n",
       "3946      18282          3           39.70       30          4          2   \n",
       "3947      18283         16           66.75       26          4          4   \n",
       "3948      18287          3           80.40       65          3          2   \n",
       "\n",
       "     m_quantile  \n",
       "0             4  \n",
       "1             4  \n",
       "2             4  \n",
       "3             3  \n",
       "4             3  \n",
       "...         ...  \n",
       "3944          2  \n",
       "3945          1  \n",
       "3946          2  \n",
       "3947          3  \n",
       "3948          3  \n",
       "\n",
       "[3949 rows x 7 columns]"
      ],
      "text/html": "<div>\n<style scoped>\n    .dataframe tbody tr th:only-of-type {\n        vertical-align: middle;\n    }\n\n    .dataframe tbody tr th {\n        vertical-align: top;\n    }\n\n    .dataframe thead th {\n        text-align: right;\n    }\n</style>\n<table border=\"1\" class=\"dataframe\">\n  <thead>\n    <tr style=\"text-align: right;\">\n      <th></th>\n      <th>customerid</th>\n      <th>frequency</th>\n      <th>monetary_value</th>\n      <th>recency</th>\n      <th>r_quantile</th>\n      <th>f_quantile</th>\n      <th>m_quantile</th>\n    </tr>\n  </thead>\n  <tbody>\n    <tr>\n      <th>0</th>\n      <td>12346</td>\n      <td>2</td>\n      <td>154367.20</td>\n      <td>348</td>\n      <td>1</td>\n      <td>2</td>\n      <td>4</td>\n    </tr>\n    <tr>\n      <th>1</th>\n      <td>12747</td>\n      <td>11</td>\n      <td>689.49</td>\n      <td>25</td>\n      <td>4</td>\n      <td>4</td>\n      <td>4</td>\n    </tr>\n    <tr>\n      <th>2</th>\n      <td>12748</td>\n      <td>223</td>\n      <td>7055.46</td>\n      <td>23</td>\n      <td>4</td>\n      <td>4</td>\n      <td>4</td>\n    </tr>\n    <tr>\n      <th>3</th>\n      <td>12749</td>\n      <td>8</td>\n      <td>134.45</td>\n      <td>26</td>\n      <td>4</td>\n      <td>4</td>\n      <td>3</td>\n    </tr>\n    <tr>\n      <th>4</th>\n      <td>12820</td>\n      <td>4</td>\n      <td>58.20</td>\n      <td>26</td>\n      <td>4</td>\n      <td>3</td>\n      <td>3</td>\n    </tr>\n    <tr>\n      <th>...</th>\n      <td>...</td>\n      <td>...</td>\n      <td>...</td>\n      <td>...</td>\n      <td>...</td>\n      <td>...</td>\n      <td>...</td>\n    </tr>\n    <tr>\n      <th>3944</th>\n      <td>18280</td>\n      <td>1</td>\n      <td>23.70</td>\n      <td>300</td>\n      <td>1</td>\n      <td>1</td>\n      <td>2</td>\n    </tr>\n    <tr>\n      <th>3945</th>\n      <td>18281</td>\n      <td>1</td>\n      <td>5.04</td>\n      <td>203</td>\n      <td>1</td>\n      <td>1</td>\n      <td>1</td>\n    </tr>\n    <tr>\n      <th>3946</th>\n      <td>18282</td>\n      <td>3</td>\n      <td>39.70</td>\n      <td>30</td>\n      <td>4</td>\n      <td>2</td>\n      <td>2</td>\n    </tr>\n    <tr>\n      <th>3947</th>\n      <td>18283</td>\n      <td>16</td>\n      <td>66.75</td>\n      <td>26</td>\n      <td>4</td>\n      <td>4</td>\n      <td>3</td>\n    </tr>\n    <tr>\n      <th>3948</th>\n      <td>18287</td>\n      <td>3</td>\n      <td>80.40</td>\n      <td>65</td>\n      <td>3</td>\n      <td>2</td>\n      <td>3</td>\n    </tr>\n  </tbody>\n</table>\n<p>3949 rows × 7 columns</p>\n</div>"
     },
     "metadata": {},
     "execution_count": 225
    }
   ],
   "source": [
    "df_x['r_quantile']= df_x['recency'].apply(rscore , args = ('recency',))\n",
    "df_x['f_quantile']= df_x['frequency'].apply(mfscore , args = ('frequency',))\n",
    "df_x['m_quantile']= df_x['monetary_value'].apply(mfscore , args = ('monetary_value',))\n",
    "df_x"
   ]
  },
  {
   "cell_type": "code",
   "execution_count": 226,
   "metadata": {},
   "outputs": [
    {
     "output_type": "execute_result",
     "data": {
      "text/plain": [
       "     customerid  r_quantile  f_quantile  m_quantile total_score  score\n",
       "0         12346           1           2           4         124      7\n",
       "1         12747           4           4           4         444     12\n",
       "2         12748           4           4           4         444     12\n",
       "3         12749           4           4           3         443     11\n",
       "4         12820           4           3           3         433     10\n",
       "...         ...         ...         ...         ...         ...    ...\n",
       "3944      18280           1           1           2         112      4\n",
       "3945      18281           1           1           1         111      3\n",
       "3946      18282           4           2           2         422      8\n",
       "3947      18283           4           4           3         443     11\n",
       "3948      18287           3           2           3         323      8\n",
       "\n",
       "[3949 rows x 6 columns]"
      ],
      "text/html": "<div>\n<style scoped>\n    .dataframe tbody tr th:only-of-type {\n        vertical-align: middle;\n    }\n\n    .dataframe tbody tr th {\n        vertical-align: top;\n    }\n\n    .dataframe thead th {\n        text-align: right;\n    }\n</style>\n<table border=\"1\" class=\"dataframe\">\n  <thead>\n    <tr style=\"text-align: right;\">\n      <th></th>\n      <th>customerid</th>\n      <th>r_quantile</th>\n      <th>f_quantile</th>\n      <th>m_quantile</th>\n      <th>total_score</th>\n      <th>score</th>\n    </tr>\n  </thead>\n  <tbody>\n    <tr>\n      <th>0</th>\n      <td>12346</td>\n      <td>1</td>\n      <td>2</td>\n      <td>4</td>\n      <td>124</td>\n      <td>7</td>\n    </tr>\n    <tr>\n      <th>1</th>\n      <td>12747</td>\n      <td>4</td>\n      <td>4</td>\n      <td>4</td>\n      <td>444</td>\n      <td>12</td>\n    </tr>\n    <tr>\n      <th>2</th>\n      <td>12748</td>\n      <td>4</td>\n      <td>4</td>\n      <td>4</td>\n      <td>444</td>\n      <td>12</td>\n    </tr>\n    <tr>\n      <th>3</th>\n      <td>12749</td>\n      <td>4</td>\n      <td>4</td>\n      <td>3</td>\n      <td>443</td>\n      <td>11</td>\n    </tr>\n    <tr>\n      <th>4</th>\n      <td>12820</td>\n      <td>4</td>\n      <td>3</td>\n      <td>3</td>\n      <td>433</td>\n      <td>10</td>\n    </tr>\n    <tr>\n      <th>...</th>\n      <td>...</td>\n      <td>...</td>\n      <td>...</td>\n      <td>...</td>\n      <td>...</td>\n      <td>...</td>\n    </tr>\n    <tr>\n      <th>3944</th>\n      <td>18280</td>\n      <td>1</td>\n      <td>1</td>\n      <td>2</td>\n      <td>112</td>\n      <td>4</td>\n    </tr>\n    <tr>\n      <th>3945</th>\n      <td>18281</td>\n      <td>1</td>\n      <td>1</td>\n      <td>1</td>\n      <td>111</td>\n      <td>3</td>\n    </tr>\n    <tr>\n      <th>3946</th>\n      <td>18282</td>\n      <td>4</td>\n      <td>2</td>\n      <td>2</td>\n      <td>422</td>\n      <td>8</td>\n    </tr>\n    <tr>\n      <th>3947</th>\n      <td>18283</td>\n      <td>4</td>\n      <td>4</td>\n      <td>3</td>\n      <td>443</td>\n      <td>11</td>\n    </tr>\n    <tr>\n      <th>3948</th>\n      <td>18287</td>\n      <td>3</td>\n      <td>2</td>\n      <td>3</td>\n      <td>323</td>\n      <td>8</td>\n    </tr>\n  </tbody>\n</table>\n<p>3949 rows × 6 columns</p>\n</div>"
     },
     "metadata": {},
     "execution_count": 226
    }
   ],
   "source": [
    "df_x['total_score'] = df_x['r_quantile'] + df_x['f_quantile'] + df_x['m_quantile']\n",
    "df_score = df_x[['customerid' , 'r_quantile' , 'f_quantile' , 'm_quantile' ,'total_score']]\n",
    "df_score['r_quantile'] = df_score['r_quantile'].astype(int)\n",
    "df_score['f_quantile'] = df_score['f_quantile'].astype(int)\n",
    "df_score['m_quantile'] = df_score['m_quantile'].astype(int)\n",
    "df_score['score'] = df_score['r_quantile'] + df_score['f_quantile'] + df_score['m_quantile']\n",
    "df_score"
   ]
  },
  {
   "source": [
    "# score\n",
    "# 444 = 12\n",
    "# 333 = 9\n",
    "# 222 = 6\n",
    "# 111 = 3\n",
    "\n",
    "def segmentation(x) :\n",
    "    if x > 9 :\n",
    "        return 'Class A'\n",
    "    elif x > 6 :\n",
    "        return 'Class B'\n",
    "    elif x > 3 :\n",
    "        return 'Class C'\n",
    "    else :\n",
    "        return 'Class F'\n",
    "\n",
    "df_score['Class'] = df_score['score'].apply(segmentation)\n",
    "df_score"
   ],
   "cell_type": "code",
   "metadata": {},
   "execution_count": 227,
   "outputs": [
    {
     "output_type": "execute_result",
     "data": {
      "text/plain": [
       "     customerid  r_quantile  f_quantile  m_quantile total_score  score  \\\n",
       "0         12346           1           2           4         124      7   \n",
       "1         12747           4           4           4         444     12   \n",
       "2         12748           4           4           4         444     12   \n",
       "3         12749           4           4           3         443     11   \n",
       "4         12820           4           3           3         433     10   \n",
       "...         ...         ...         ...         ...         ...    ...   \n",
       "3944      18280           1           1           2         112      4   \n",
       "3945      18281           1           1           1         111      3   \n",
       "3946      18282           4           2           2         422      8   \n",
       "3947      18283           4           4           3         443     11   \n",
       "3948      18287           3           2           3         323      8   \n",
       "\n",
       "        Class  \n",
       "0     Class B  \n",
       "1     Class A  \n",
       "2     Class A  \n",
       "3     Class A  \n",
       "4     Class A  \n",
       "...       ...  \n",
       "3944  Class C  \n",
       "3945  Class F  \n",
       "3946  Class B  \n",
       "3947  Class A  \n",
       "3948  Class B  \n",
       "\n",
       "[3949 rows x 7 columns]"
      ],
      "text/html": "<div>\n<style scoped>\n    .dataframe tbody tr th:only-of-type {\n        vertical-align: middle;\n    }\n\n    .dataframe tbody tr th {\n        vertical-align: top;\n    }\n\n    .dataframe thead th {\n        text-align: right;\n    }\n</style>\n<table border=\"1\" class=\"dataframe\">\n  <thead>\n    <tr style=\"text-align: right;\">\n      <th></th>\n      <th>customerid</th>\n      <th>r_quantile</th>\n      <th>f_quantile</th>\n      <th>m_quantile</th>\n      <th>total_score</th>\n      <th>score</th>\n      <th>Class</th>\n    </tr>\n  </thead>\n  <tbody>\n    <tr>\n      <th>0</th>\n      <td>12346</td>\n      <td>1</td>\n      <td>2</td>\n      <td>4</td>\n      <td>124</td>\n      <td>7</td>\n      <td>Class B</td>\n    </tr>\n    <tr>\n      <th>1</th>\n      <td>12747</td>\n      <td>4</td>\n      <td>4</td>\n      <td>4</td>\n      <td>444</td>\n      <td>12</td>\n      <td>Class A</td>\n    </tr>\n    <tr>\n      <th>2</th>\n      <td>12748</td>\n      <td>4</td>\n      <td>4</td>\n      <td>4</td>\n      <td>444</td>\n      <td>12</td>\n      <td>Class A</td>\n    </tr>\n    <tr>\n      <th>3</th>\n      <td>12749</td>\n      <td>4</td>\n      <td>4</td>\n      <td>3</td>\n      <td>443</td>\n      <td>11</td>\n      <td>Class A</td>\n    </tr>\n    <tr>\n      <th>4</th>\n      <td>12820</td>\n      <td>4</td>\n      <td>3</td>\n      <td>3</td>\n      <td>433</td>\n      <td>10</td>\n      <td>Class A</td>\n    </tr>\n    <tr>\n      <th>...</th>\n      <td>...</td>\n      <td>...</td>\n      <td>...</td>\n      <td>...</td>\n      <td>...</td>\n      <td>...</td>\n      <td>...</td>\n    </tr>\n    <tr>\n      <th>3944</th>\n      <td>18280</td>\n      <td>1</td>\n      <td>1</td>\n      <td>2</td>\n      <td>112</td>\n      <td>4</td>\n      <td>Class C</td>\n    </tr>\n    <tr>\n      <th>3945</th>\n      <td>18281</td>\n      <td>1</td>\n      <td>1</td>\n      <td>1</td>\n      <td>111</td>\n      <td>3</td>\n      <td>Class F</td>\n    </tr>\n    <tr>\n      <th>3946</th>\n      <td>18282</td>\n      <td>4</td>\n      <td>2</td>\n      <td>2</td>\n      <td>422</td>\n      <td>8</td>\n      <td>Class B</td>\n    </tr>\n    <tr>\n      <th>3947</th>\n      <td>18283</td>\n      <td>4</td>\n      <td>4</td>\n      <td>3</td>\n      <td>443</td>\n      <td>11</td>\n      <td>Class A</td>\n    </tr>\n    <tr>\n      <th>3948</th>\n      <td>18287</td>\n      <td>3</td>\n      <td>2</td>\n      <td>3</td>\n      <td>323</td>\n      <td>8</td>\n      <td>Class B</td>\n    </tr>\n  </tbody>\n</table>\n<p>3949 rows × 7 columns</p>\n</div>"
     },
     "metadata": {},
     "execution_count": 227
    }
   ]
  },
  {
   "cell_type": "code",
   "execution_count": 247,
   "metadata": {},
   "outputs": [
    {
     "output_type": "execute_result",
     "data": {
      "text/html": "\n<div id=\"altair-viz-21aef28078f446dda5480941c2b92351\"></div>\n<script type=\"text/javascript\">\n  (function(spec, embedOpt){\n    let outputDiv = document.currentScript.previousElementSibling;\n    if (outputDiv.id !== \"altair-viz-21aef28078f446dda5480941c2b92351\") {\n      outputDiv = document.getElementById(\"altair-viz-21aef28078f446dda5480941c2b92351\");\n    }\n    const paths = {\n      \"vega\": \"https://cdn.jsdelivr.net/npm//vega@5?noext\",\n      \"vega-lib\": \"https://cdn.jsdelivr.net/npm//vega-lib?noext\",\n      \"vega-lite\": \"https://cdn.jsdelivr.net/npm//vega-lite@4.8.1?noext\",\n      \"vega-embed\": \"https://cdn.jsdelivr.net/npm//vega-embed@6?noext\",\n    };\n\n    function loadScript(lib) {\n      return new Promise(function(resolve, reject) {\n        var s = document.createElement('script');\n        s.src = paths[lib];\n        s.async = true;\n        s.onload = () => resolve(paths[lib]);\n        s.onerror = () => reject(`Error loading script: ${paths[lib]}`);\n        document.getElementsByTagName(\"head\")[0].appendChild(s);\n      });\n    }\n\n    function showError(err) {\n      outputDiv.innerHTML = `<div class=\"error\" style=\"color:red;\">${err}</div>`;\n      throw err;\n    }\n\n    function displayChart(vegaEmbed) {\n      vegaEmbed(outputDiv, spec, embedOpt)\n        .catch(err => showError(`Javascript Error: ${err.message}<br>This usually means there's a typo in your chart specification. See the javascript console for the full traceback.`));\n    }\n\n    if(typeof define === \"function\" && define.amd) {\n      requirejs.config({paths});\n      require([\"vega-embed\"], displayChart, err => showError(`Error loading script: ${err.message}`));\n    } else if (typeof vegaEmbed === \"function\") {\n      displayChart(vegaEmbed);\n    } else {\n      loadScript(\"vega\")\n        .then(() => loadScript(\"vega-lite\"))\n        .then(() => loadScript(\"vega-embed\"))\n        .catch(showError)\n        .then(() => displayChart(vegaEmbed));\n    }\n  })({\"config\": {\"view\": {\"continuousWidth\": 400, \"continuousHeight\": 300}}, \"data\": {\"name\": \"data-854a871822514b93f486e96d8df72ff8\"}, \"mark\": \"bar\", \"encoding\": {\"color\": {\"type\": \"nominal\", \"field\": \"Class\"}, \"x\": {\"type\": \"ordinal\", \"field\": \"Class\"}, \"y\": {\"type\": \"quantitative\", \"field\": \"customerid\"}}, \"height\": 200, \"width\": 200, \"$schema\": \"https://vega.github.io/schema/vega-lite/v4.8.1.json\", \"datasets\": {\"data-854a871822514b93f486e96d8df72ff8\": [{\"Class\": \"Class A\", \"customerid\": 1076}, {\"Class\": \"Class B\", \"customerid\": 1172}, {\"Class\": \"Class C\", \"customerid\": 1352}, {\"Class\": \"Class F\", \"customerid\": 349}]}}, {\"mode\": \"vega-lite\"});\n</script>",
      "text/plain": [
       "alt.Chart(...)"
      ]
     },
     "metadata": {},
     "execution_count": 247
    }
   ],
   "source": [
    "df_seg = df_score.groupby(['Class'],as_index=False)['customerid'].count()\n",
    "alt.Chart(df_seg).mark_bar().encode(\n",
    "    x = 'Class:O',\n",
    "    y = 'customerid:Q',\n",
    "    color = 'Class'\n",
    ").properties(\n",
    "    width = 200 ,\n",
    "    height = 200 \n",
    ")"
   ]
  },
  {
   "cell_type": "code",
   "execution_count": null,
   "metadata": {},
   "outputs": [],
   "source": []
  }
 ],
 "metadata": {
  "kernelspec": {
   "display_name": "Python 3",
   "language": "python",
   "name": "python3"
  },
  "language_info": {
   "codemirror_mode": {
    "name": "ipython",
    "version": 3
   },
   "file_extension": ".py",
   "mimetype": "text/x-python",
   "name": "python",
   "nbconvert_exporter": "python",
   "pygments_lexer": "ipython3",
   "version": "3.8.5"
  }
 },
 "nbformat": 4,
 "nbformat_minor": 2
}